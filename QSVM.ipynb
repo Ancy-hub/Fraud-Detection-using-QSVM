{
  "nbformat": 4,
  "nbformat_minor": 0,
  "metadata": {
    "colab": {
      "provenance": [],
      "authorship_tag": "ABX9TyNmkfJpIbfASP2nUKGKj1iY",
      "include_colab_link": true
    },
    "kernelspec": {
      "name": "python3",
      "display_name": "Python 3"
    },
    "language_info": {
      "name": "python"
    }
  },
  "cells": [
    {
      "cell_type": "markdown",
      "metadata": {
        "id": "view-in-github",
        "colab_type": "text"
      },
      "source": [
        "<a href=\"https://colab.research.google.com/github/Ancy-hub/Freaud-Detection-using-QSVM/blob/main/QSVM.ipynb\" target=\"_parent\"><img src=\"https://colab.research.google.com/assets/colab-badge.svg\" alt=\"Open In Colab\"/></a>"
      ]
    },
    {
      "cell_type": "code",
      "execution_count": null,
      "metadata": {
        "id": "3XRWr1ssXpCK"
      },
      "outputs": [],
      "source": [
        "import pandas as pd\n",
        "import os\n",
        "import numpy as np\n",
        "from sklearn.model_selection import train_test_split\n",
        "from sklearn.preprocessing import StandardScaler\n",
        "from sklearn.metrics import classification_report\n",
        "import cirq\n",
        "\n",
        "# Load the creditcard.csv dataset\n",
        "data = pd.read_csv(\"creditcard.csv\")\n",
        "\n",
        "# Separate features and labels\n",
        "X = data.drop(columns=['Class'])\n",
        "y = data['Class']\n",
        "\n",
        "# Split the data into training and testing sets\n",
        "X_train, X_test, y_train, y_test = train_test_split(X, y, test_size=0.2, random_state=42)\n",
        "\n",
        "# Scale the features\n",
        "scaler = StandardScaler()\n",
        "X_train_scaled = scaler.fit_transform(X_train)\n",
        "X_test_scaled = scaler.transform(X_test)\n",
        "\n",
        "# Quantum feature map\n",
        "def quantum_feature_map(data):\n",
        "    qubits = cirq.GridQubit.rect(1, len(data[0]))\n",
        "    circuit = cirq.Circuit()\n",
        "    for i, datum in enumerate(data):\n",
        "        for j, feature in enumerate(datum):\n",
        "            circuit.append(cirq.rx(np.pi * feature).on(qubits[j]))\n",
        "        circuit.append(cirq.CNOT(qubits[0], qubits[1]))  # Entangling layer (just an example)\n",
        "    return circuit\n",
        "\n",
        "# Quantum circuit for classifying\n",
        "def quantum_classifier(theta):\n",
        "    qubits = cirq.GridQubit.rect(1, 2)\n",
        "    circuit = cirq.Circuit()\n",
        "    circuit.append(cirq.rx(theta[0]).on(qubits[0]))\n",
        "    circuit.append(cirq.ry(theta[1]).on(qubits[1]))\n",
        "    circuit.append(cirq.CNOT(qubits[0], qubits[1]))\n",
        "    return circuit\n",
        "\n",
        "# Define initial parameters\n",
        "theta = np.random.rand(2) * np.pi\n",
        "\n",
        "# Quantum SVM training\n",
        "def quantum_svm_train(X_train, y_train):\n",
        "    num_data = len(X_train)\n",
        "    feature_map_circuit = quantum_feature_map(X_train)\n",
        "    classifier_circuit = quantum_classifier(theta)\n",
        "\n",
        "    # Quantum part of QSVM training\n",
        "    # Implement optimization of theta here\n",
        "    # For simplicity, let's just return the initial parameters without any optimization\n",
        "\n",
        "    return theta\n",
        "\n",
        "# Quantum SVM testing\n",
        "def quantum_svm_test(X_test, theta):\n",
        "    feature_map_circuit = quantum_feature_map(X_test)\n",
        "    classifier_circuit = quantum_classifier(theta)\n",
        "\n",
        "\n",
        "    # For simplicity, let's just return a random prediction\n",
        "    return np.random.choice([0, 1], size=len(X_test))\n",
        "\n",
        "# Train QSVM\n",
        "theta = quantum_svm_train(X_train_scaled, y_train)\n",
        "\n",
        "# Test QSVM\n",
        "y_pred = quantum_svm_test(X_test_scaled, theta)\n",
        "\n",
        "# Evaluate QSVM\n",
        "print(\"Classification Report:\")\n",
        "print(classification_report(y_test, y_pred))"
      ]
    },
    {
      "cell_type": "code",
      "source": [
        "from google.colab import drive\n",
        "drive.mount('/content/drive')"
      ],
      "metadata": {
        "id": "G2ry1AV4cnYJ"
      },
      "execution_count": null,
      "outputs": []
    }
  ]
}